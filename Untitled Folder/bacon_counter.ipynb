{
 "cells": [
  {
   "cell_type": "markdown",
   "id": "82998d04",
   "metadata": {},
   "source": [
    "# This file is for readability purposes only\n",
    "# The code here does not run \n",
    "# See the bacon_counter.py file for more information"
   ]
  },
  {
   "cell_type": "code",
   "execution_count": 5,
   "id": "b6b7d9aa",
   "metadata": {},
   "outputs": [],
   "source": [
    "# from mrjob.job import MRJob "
   ]
  },
  {
   "cell_type": "code",
   "execution_count": 6,
   "id": "8afd37d9",
   "metadata": {},
   "outputs": [
    {
     "name": "stderr",
     "output_type": "stream",
     "text": [
      "usage: ipykernel_launcher.py [options] [input files]\n",
      "ipykernel_launcher.py: error: unrecognized arguments: -f\n"
     ]
    },
    {
     "ename": "SystemExit",
     "evalue": "2",
     "output_type": "error",
     "traceback": [
      "An exception has occurred, use %tb to see the full traceback.\n",
      "\u001b[1;31mSystemExit\u001b[0m\u001b[1;31m:\u001b[0m 2\n"
     ]
    },
    {
     "name": "stderr",
     "output_type": "stream",
     "text": [
      "C:\\Users\\adeve\\anaconda3\\envs\\PythonData\\lib\\site-packages\\IPython\\core\\interactiveshell.py:3452: UserWarning: To exit: use 'exit', 'quit', or Ctrl-D.\n",
      "  warn(\"To exit: use 'exit', 'quit', or Ctrl-D.\", stacklevel=1)\n"
     ]
    }
   ],
   "source": [
    "# class Bacon_count(MRJob):\n",
    "#     def mapper(self, _, line):\n",
    "#         for word in line.split():\n",
    "#             if word.lower() == \"bacon\":\n",
    "#                 yield \"bacon\", 1\n",
    "\n",
    "#     def reducer(self, key, values):\n",
    "#         yield key, sum(values)\n",
    "# if __name__ == \"__main__\":\n",
    "#     Bacon_count.run()"
   ]
  },
  {
   "cell_type": "code",
   "execution_count": null,
   "id": "8610ff25",
   "metadata": {},
   "outputs": [],
   "source": [
    "# def mapper(self, _, line): \n",
    "#     for word in line.split():\n",
    "#     if word.lower() == \"bacon\":\n",
    "#         yield \"bacon\", 1"
   ]
  },
  {
   "cell_type": "markdown",
   "id": "5a062411",
   "metadata": {},
   "source": [
    "## Notes on the mapper function above\n",
    "\n",
    "The second parameter (here using an underscore (_), explained next) allows methods to be mapped together. Since we are not chaining anything together, we use the Python convention of an underscore to indicate that we won’t use this parameter. The line parameter will be the line of text taken from the raw input file.\n",
    "\n",
    "The function will loop through each word in the line of text, as described below:\n",
    "\n",
    "1. Call the split() method on each line to break the text into a list of words.\n",
    "2. Each word will convert to lowercase.\n",
    "3. If the words match the search word \"bacon,\" a key-value pair will show as yield \"bacon\", 1.\n",
    "4. When you call a function with yield it returns what is called a generator object. A generator is an iterator like a list, however unlike a list the contents are not stored in memory, useful for large files. When yield is called the function is suspended and returns a value. A generator won't return another value until next() is called, which is something that mrJobs calls a number of times till it is done. So, for a yield, each time the word \"bacon\" appears, mrJobs returns “bacon”, 1. If \"bacon\" appears three times, then an output of “bacon”, 1 would be produced three times.\n"
   ]
  },
  {
   "cell_type": "code",
   "execution_count": null,
   "id": "f12140a9",
   "metadata": {},
   "outputs": [],
   "source": [
    "# def reducer(self, key, values):\n",
    "#    yield key, sum(values)"
   ]
  },
  {
   "cell_type": "markdown",
   "id": "bb52a8ae",
   "metadata": {},
   "source": [
    "## Notes on this section of the mapper function above\n",
    "\n",
    "There's a shuffle step that occurs after the mapper. There is no code written for this step, and it occurs because the class inherits from the mrjob library. This shuffle step organizes the key-value pairs so that there's only one key for each unique key, and combines the values into a list.\n",
    "\n",
    "The reducer function might not look like it's doing as much as the mapper function, but it's just as important. The reducer function takes three parameters: self, key, and values:\n",
    "\n",
    "    The self parameter is used in Python to represent the instance of the class.\n",
    "    The key parameter represents the key of the key-value pair created in the mapper function. In this example, the key is \"bacon.\"\n",
    "    The values parameter is a list of values created in the mapper function. We want to sum all of these values. Recall that from the mapper function the yield was used to produce multiple outputs. With the reducer we'll produce the key and sum of all the values assigned with it:\n"
   ]
  },
  {
   "cell_type": "code",
   "execution_count": null,
   "id": "1e0efd06",
   "metadata": {},
   "outputs": [],
   "source": []
  }
 ],
 "metadata": {
  "kernelspec": {
   "display_name": "PythonData",
   "language": "python",
   "name": "pythondata"
  },
  "language_info": {
   "codemirror_mode": {
    "name": "ipython",
    "version": 3
   },
   "file_extension": ".py",
   "mimetype": "text/x-python",
   "name": "python",
   "nbconvert_exporter": "python",
   "pygments_lexer": "ipython3",
   "version": "3.9.7"
  }
 },
 "nbformat": 4,
 "nbformat_minor": 5
}
