{
 "cells": [
  {
   "cell_type": "code",
   "execution_count": 1,
   "id": "f5d5fca5",
   "metadata": {},
   "outputs": [],
   "source": [
    "import pandas as pd "
   ]
  },
  {
   "cell_type": "code",
   "execution_count": 2,
   "id": "dd2b958f",
   "metadata": {},
   "outputs": [],
   "source": [
    "data = pd.read_csv(\"Vine_Table.csv\")"
   ]
  },
  {
   "cell_type": "code",
   "execution_count": 3,
   "id": "da817a79",
   "metadata": {},
   "outputs": [
    {
     "data": {
      "text/html": [
       "<div>\n",
       "<style scoped>\n",
       "    .dataframe tbody tr th:only-of-type {\n",
       "        vertical-align: middle;\n",
       "    }\n",
       "\n",
       "    .dataframe tbody tr th {\n",
       "        vertical-align: top;\n",
       "    }\n",
       "\n",
       "    .dataframe thead th {\n",
       "        text-align: right;\n",
       "    }\n",
       "</style>\n",
       "<table border=\"1\" class=\"dataframe\">\n",
       "  <thead>\n",
       "    <tr style=\"text-align: right;\">\n",
       "      <th></th>\n",
       "      <th>review_id</th>\n",
       "      <th>star_rating</th>\n",
       "      <th>helpful_votes</th>\n",
       "      <th>total_votes</th>\n",
       "      <th>vine</th>\n",
       "      <th>verified_purchase</th>\n",
       "    </tr>\n",
       "  </thead>\n",
       "  <tbody>\n",
       "    <tr>\n",
       "      <th>0</th>\n",
       "      <td>R1KKOXHNI8MSXU</td>\n",
       "      <td>4.0</td>\n",
       "      <td>0.0</td>\n",
       "      <td>0.0</td>\n",
       "      <td>N</td>\n",
       "      <td>Y</td>\n",
       "    </tr>\n",
       "    <tr>\n",
       "      <th>1</th>\n",
       "      <td>R26SP2OPDK4HT7</td>\n",
       "      <td>5.0</td>\n",
       "      <td>1.0</td>\n",
       "      <td>2.0</td>\n",
       "      <td>N</td>\n",
       "      <td>Y</td>\n",
       "    </tr>\n",
       "    <tr>\n",
       "      <th>2</th>\n",
       "      <td>RWQEDYAX373I1</td>\n",
       "      <td>5.0</td>\n",
       "      <td>0.0</td>\n",
       "      <td>0.0</td>\n",
       "      <td>N</td>\n",
       "      <td>Y</td>\n",
       "    </tr>\n",
       "    <tr>\n",
       "      <th>3</th>\n",
       "      <td>R231YI7R4GPF6J</td>\n",
       "      <td>5.0</td>\n",
       "      <td>0.0</td>\n",
       "      <td>0.0</td>\n",
       "      <td>N</td>\n",
       "      <td>Y</td>\n",
       "    </tr>\n",
       "    <tr>\n",
       "      <th>4</th>\n",
       "      <td>R3KO3W45DD0L1K</td>\n",
       "      <td>5.0</td>\n",
       "      <td>0.0</td>\n",
       "      <td>0.0</td>\n",
       "      <td>N</td>\n",
       "      <td>Y</td>\n",
       "    </tr>\n",
       "  </tbody>\n",
       "</table>\n",
       "</div>"
      ],
      "text/plain": [
       "        review_id  star_rating  helpful_votes  total_votes vine  \\\n",
       "0  R1KKOXHNI8MSXU          4.0            0.0          0.0    N   \n",
       "1  R26SP2OPDK4HT7          5.0            1.0          2.0    N   \n",
       "2   RWQEDYAX373I1          5.0            0.0          0.0    N   \n",
       "3  R231YI7R4GPF6J          5.0            0.0          0.0    N   \n",
       "4  R3KO3W45DD0L1K          5.0            0.0          0.0    N   \n",
       "\n",
       "  verified_purchase  \n",
       "0                 Y  \n",
       "1                 Y  \n",
       "2                 Y  \n",
       "3                 Y  \n",
       "4                 Y  "
      ]
     },
     "execution_count": 3,
     "metadata": {},
     "output_type": "execute_result"
    }
   ],
   "source": [
    "data.head()"
   ]
  },
  {
   "cell_type": "code",
   "execution_count": 4,
   "id": "35823189",
   "metadata": {},
   "outputs": [],
   "source": [
    "data_greater_than_20 = data[data[\"total_votes\"] >= 20]"
   ]
  },
  {
   "cell_type": "code",
   "execution_count": 5,
   "id": "25243876",
   "metadata": {},
   "outputs": [],
   "source": [
    "data_greater_than_50 = data_greater_than_20[(data_greater_than_20[\"helpful_votes\"]/data_greater_than_20[\"total_votes\"]) >= 0.5]"
   ]
  },
  {
   "cell_type": "code",
   "execution_count": 6,
   "id": "f8618d0c",
   "metadata": {},
   "outputs": [
    {
     "data": {
      "text/plain": [
       "46909"
      ]
     },
     "execution_count": 6,
     "metadata": {},
     "output_type": "execute_result"
    }
   ],
   "source": [
    "len(data_greater_than_20)"
   ]
  },
  {
   "cell_type": "code",
   "execution_count": 7,
   "id": "965a8824",
   "metadata": {},
   "outputs": [
    {
     "data": {
      "text/plain": [
       "45421"
      ]
     },
     "execution_count": 7,
     "metadata": {},
     "output_type": "execute_result"
    }
   ],
   "source": [
    "len(data_greater_than_50)"
   ]
  },
  {
   "cell_type": "code",
   "execution_count": 8,
   "id": "b48d55d5",
   "metadata": {},
   "outputs": [],
   "source": [
    "vine_Y = data_greater_than_50[data_greater_than_50[\"vine\"] == \"Y\"]"
   ]
  },
  {
   "cell_type": "code",
   "execution_count": 9,
   "id": "39f24660",
   "metadata": {},
   "outputs": [
    {
     "data": {
      "text/plain": [
       "33"
      ]
     },
     "execution_count": 9,
     "metadata": {},
     "output_type": "execute_result"
    }
   ],
   "source": [
    "len(vine_Y)"
   ]
  },
  {
   "cell_type": "code",
   "execution_count": 10,
   "id": "512e557e",
   "metadata": {},
   "outputs": [],
   "source": [
    "# vine_Y.head()"
   ]
  },
  {
   "cell_type": "code",
   "execution_count": 11,
   "id": "39124cdd",
   "metadata": {},
   "outputs": [],
   "source": [
    "vine_Y_5_Star = vine_Y[vine_Y[\"star_rating\"] == 5.0]\n",
    "# vine_Y_5_Star.head()"
   ]
  },
  {
   "cell_type": "code",
   "execution_count": 12,
   "id": "c23ebda2",
   "metadata": {},
   "outputs": [],
   "source": [
    "vine_Y_paid = vine_Y_5_Star[vine_Y_5_Star[\"verified_purchase\"] == \"Y\"]\n",
    "vine_Y_5_star_unpaid = vine_Y_5_Star[vine_Y_5_Star[\"verified_purchase\"] == \"N\"] "
   ]
  },
  {
   "cell_type": "code",
   "execution_count": 13,
   "id": "165dca2d",
   "metadata": {},
   "outputs": [],
   "source": [
    "vine_N = data_greater_than_50[data_greater_than_50[\"vine\"] == \"N\"]"
   ]
  },
  {
   "cell_type": "code",
   "execution_count": 14,
   "id": "920872b9",
   "metadata": {},
   "outputs": [
    {
     "data": {
      "text/plain": [
       "45388"
      ]
     },
     "execution_count": 14,
     "metadata": {},
     "output_type": "execute_result"
    }
   ],
   "source": [
    "len(vine_N)"
   ]
  },
  {
   "cell_type": "code",
   "execution_count": 15,
   "id": "808e4e77",
   "metadata": {},
   "outputs": [],
   "source": [
    "# vine_N.head()"
   ]
  },
  {
   "cell_type": "code",
   "execution_count": 16,
   "id": "af0bb2b4",
   "metadata": {},
   "outputs": [],
   "source": [
    "vine_N_5_Star = vine_N[vine_N[\"star_rating\"] == 5.0]\n",
    "# vine_N_5_Star.head()"
   ]
  },
  {
   "cell_type": "code",
   "execution_count": 17,
   "id": "0b1a4104",
   "metadata": {},
   "outputs": [],
   "source": [
    "vine_N_paid = vine_N_5_Star[vine_N_5_Star[\"verified_purchase\"] == \"Y\"]\n",
    "vine_N_5_star_unpaid = vine_N_5_Star[vine_N_5_Star[\"verified_purchase\"] == \"N\"] "
   ]
  },
  {
   "cell_type": "code",
   "execution_count": 18,
   "id": "634b2056",
   "metadata": {},
   "outputs": [
    {
     "data": {
      "text/html": [
       "<div>\n",
       "<style scoped>\n",
       "    .dataframe tbody tr th:only-of-type {\n",
       "        vertical-align: middle;\n",
       "    }\n",
       "\n",
       "    .dataframe tbody tr th {\n",
       "        vertical-align: top;\n",
       "    }\n",
       "\n",
       "    .dataframe thead th {\n",
       "        text-align: right;\n",
       "    }\n",
       "</style>\n",
       "<table border=\"1\" class=\"dataframe\">\n",
       "  <thead>\n",
       "    <tr style=\"text-align: right;\">\n",
       "      <th></th>\n",
       "      <th>review_id</th>\n",
       "      <th>star_rating</th>\n",
       "      <th>helpful_votes</th>\n",
       "      <th>total_votes</th>\n",
       "      <th>vine</th>\n",
       "      <th>verified_purchase</th>\n",
       "    </tr>\n",
       "  </thead>\n",
       "  <tbody>\n",
       "    <tr>\n",
       "      <th>406</th>\n",
       "      <td>R2SMUEBMGLAJQK</td>\n",
       "      <td>5.0</td>\n",
       "      <td>29.0</td>\n",
       "      <td>36.0</td>\n",
       "      <td>N</td>\n",
       "      <td>Y</td>\n",
       "    </tr>\n",
       "    <tr>\n",
       "      <th>408</th>\n",
       "      <td>R1XVIZZALU5P6J</td>\n",
       "      <td>5.0</td>\n",
       "      <td>148.0</td>\n",
       "      <td>150.0</td>\n",
       "      <td>N</td>\n",
       "      <td>Y</td>\n",
       "    </tr>\n",
       "    <tr>\n",
       "      <th>701</th>\n",
       "      <td>R1P0LEEJHH09L3</td>\n",
       "      <td>5.0</td>\n",
       "      <td>32.0</td>\n",
       "      <td>32.0</td>\n",
       "      <td>N</td>\n",
       "      <td>Y</td>\n",
       "    </tr>\n",
       "    <tr>\n",
       "      <th>749</th>\n",
       "      <td>R1V6UU1EHW3Q12</td>\n",
       "      <td>5.0</td>\n",
       "      <td>57.0</td>\n",
       "      <td>62.0</td>\n",
       "      <td>N</td>\n",
       "      <td>Y</td>\n",
       "    </tr>\n",
       "    <tr>\n",
       "      <th>823</th>\n",
       "      <td>R230W87COFSTCL</td>\n",
       "      <td>5.0</td>\n",
       "      <td>21.0</td>\n",
       "      <td>21.0</td>\n",
       "      <td>N</td>\n",
       "      <td>Y</td>\n",
       "    </tr>\n",
       "  </tbody>\n",
       "</table>\n",
       "</div>"
      ],
      "text/plain": [
       "          review_id  star_rating  helpful_votes  total_votes vine  \\\n",
       "406  R2SMUEBMGLAJQK          5.0           29.0         36.0    N   \n",
       "408  R1XVIZZALU5P6J          5.0          148.0        150.0    N   \n",
       "701  R1P0LEEJHH09L3          5.0           32.0         32.0    N   \n",
       "749  R1V6UU1EHW3Q12          5.0           57.0         62.0    N   \n",
       "823  R230W87COFSTCL          5.0           21.0         21.0    N   \n",
       "\n",
       "    verified_purchase  \n",
       "406                 Y  \n",
       "408                 Y  \n",
       "701                 Y  \n",
       "749                 Y  \n",
       "823                 Y  "
      ]
     },
     "execution_count": 18,
     "metadata": {},
     "output_type": "execute_result"
    }
   ],
   "source": [
    "vine_N_paid.head()"
   ]
  },
  {
   "cell_type": "code",
   "execution_count": 23,
   "id": "3335d5be",
   "metadata": {},
   "outputs": [],
   "source": [
    "comparision_data = {\"Vine Reviewed\": [\"Vine: Y\", \"Vine: N\"],\n",
    "                    \"Total Reviews\": [len(vine_Y), len(vine_N)], \n",
    "                    \"Number of 5-Star Reviews\": [len(vine_Y_5_Star), len(vine_N_5_Star)],\n",
    "                    \"Number of 5-Star Paid Reviews\": [len(vine_Y_paid), len(vine_N_paid)], \n",
    "                    \"Number of 5-Star Unpaid Reviews\": [len(vine_Y_5_star_unpaid), len(vine_N_5_star_unpaid)],\n",
    "                    \"Percentage of 5-Star Reviews for Paid\": [(len(vine_Y_paid)/len(vine_Y))*100, (len(vine_N_paid)/len(vine_N))*100], \n",
    "                    \"Percentage of 5-Star Reviews for Unpaid\": [(len(vine_Y_5_star_unpaid)/len(vine_Y))*100, (len(vine_N_5_star_unpaid)/len(vine_N))*100]\n",
    "}"
   ]
  },
  {
   "cell_type": "code",
   "execution_count": 24,
   "id": "4a0518b3",
   "metadata": {},
   "outputs": [
    {
     "data": {
      "text/html": [
       "<div>\n",
       "<style scoped>\n",
       "    .dataframe tbody tr th:only-of-type {\n",
       "        vertical-align: middle;\n",
       "    }\n",
       "\n",
       "    .dataframe tbody tr th {\n",
       "        vertical-align: top;\n",
       "    }\n",
       "\n",
       "    .dataframe thead th {\n",
       "        text-align: right;\n",
       "    }\n",
       "</style>\n",
       "<table border=\"1\" class=\"dataframe\">\n",
       "  <thead>\n",
       "    <tr style=\"text-align: right;\">\n",
       "      <th></th>\n",
       "      <th>Vine Reviewed</th>\n",
       "      <th>Total Reviews</th>\n",
       "      <th>Number of 5-Star Reviews</th>\n",
       "      <th>Number of 5-Star Paid Reviews</th>\n",
       "      <th>Number of 5-Star Unpaid Reviews</th>\n",
       "      <th>Percentage of 5-Star Reviews for Paid</th>\n",
       "      <th>Percentage of 5-Star Reviews for Unpaid</th>\n",
       "    </tr>\n",
       "  </thead>\n",
       "  <tbody>\n",
       "    <tr>\n",
       "      <th>0</th>\n",
       "      <td>Vine: Y</td>\n",
       "      <td>33</td>\n",
       "      <td>15</td>\n",
       "      <td>0</td>\n",
       "      <td>15</td>\n",
       "      <td>0.000000</td>\n",
       "      <td>45.454545</td>\n",
       "    </tr>\n",
       "    <tr>\n",
       "      <th>1</th>\n",
       "      <td>Vine: N</td>\n",
       "      <td>45388</td>\n",
       "      <td>23733</td>\n",
       "      <td>19281</td>\n",
       "      <td>4452</td>\n",
       "      <td>42.480391</td>\n",
       "      <td>9.808760</td>\n",
       "    </tr>\n",
       "  </tbody>\n",
       "</table>\n",
       "</div>"
      ],
      "text/plain": [
       "  Vine Reviewed  Total Reviews  Number of 5-Star Reviews  \\\n",
       "0       Vine: Y             33                        15   \n",
       "1       Vine: N          45388                     23733   \n",
       "\n",
       "   Number of 5-Star Paid Reviews  Number of 5-Star Unpaid Reviews  \\\n",
       "0                              0                               15   \n",
       "1                          19281                             4452   \n",
       "\n",
       "   Percentage of 5-Star Reviews for Paid  \\\n",
       "0                               0.000000   \n",
       "1                              42.480391   \n",
       "\n",
       "   Percentage of 5-Star Reviews for Unpaid  \n",
       "0                                45.454545  \n",
       "1                                 9.808760  "
      ]
     },
     "execution_count": 24,
     "metadata": {},
     "output_type": "execute_result"
    }
   ],
   "source": [
    "pd.DataFrame(comparision_data)"
   ]
  },
  {
   "cell_type": "code",
   "execution_count": null,
   "id": "88fbb922",
   "metadata": {},
   "outputs": [],
   "source": []
  }
 ],
 "metadata": {
  "kernelspec": {
   "display_name": "PythonData",
   "language": "python",
   "name": "pythondata"
  },
  "language_info": {
   "codemirror_mode": {
    "name": "ipython",
    "version": 3
   },
   "file_extension": ".py",
   "mimetype": "text/x-python",
   "name": "python",
   "nbconvert_exporter": "python",
   "pygments_lexer": "ipython3",
   "version": "3.9.7"
  }
 },
 "nbformat": 4,
 "nbformat_minor": 5
}
